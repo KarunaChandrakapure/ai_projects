{
 "cells": [
  {
   "cell_type": "code",
   "execution_count": 37,
   "id": "9bd76c49-b35e-4a47-b3cb-c9e720c8cec0",
   "metadata": {},
   "outputs": [],
   "source": [
    "# Importing necessary libraries\n",
    "import kagglehub\n",
    "import os\n",
    "import xml.etree.ElementTree as ET\n",
    "import shutil"
   ]
  },
  {
   "cell_type": "code",
   "execution_count": 8,
   "id": "8a8ce779-d134-4f53-816f-6073958ea070",
   "metadata": {},
   "outputs": [],
   "source": [
    "# Download data from kaggle\n",
    "# path = kagglehub.dataset_download(\"zippyz/cats-and-dogs-breeds-classification-oxford-dataset\")"
   ]
  },
  {
   "cell_type": "code",
   "execution_count": 44,
   "id": "9264bd9d-6e7c-4384-a9f7-bbf583fad821",
   "metadata": {},
   "outputs": [],
   "source": [
    "import os\n",
    "import shutil\n",
    "import xml.etree.ElementTree as ET\n",
    "\n",
    "image_dir = 'Datasets/cat_dog_oxford/images/images'\n",
    "cat_dest_folder = 'Datasets/cat_dog_oxford/images/cat'\n",
    "dog_dest_folder = 'Datasets/cat_dog_oxford/images/dog'\n",
    "annotation_dir = 'Datasets/cat_dog_oxford/annotations/annotations/xmls'\n",
    "\n",
    "# Create destination folders if they don't exist\n",
    "os.makedirs(cat_dest_folder, exist_ok=True)\n",
    "os.makedirs(dog_dest_folder, exist_ok=True)\n",
    "\n",
    "for xml_file in os.listdir(annotation_dir):\n",
    "    xml_file_path = os.path.join(annotation_dir, xml_file)\n",
    "    tree = ET.parse(xml_file_path)\n",
    "    root = tree.getroot()\n",
    "\n",
    "    filename = root.find('filename').text\n",
    "    img_source = os.path.join(image_dir, filename)\n",
    "\n",
    "    # check if image doesn't exist\n",
    "    if not os.path.exists(img_source):\n",
    "        print(f\"Image not found: {img_source}\")\n",
    "        continue\n",
    "\n",
    "    for obj in root.findall('object'):\n",
    "        class_name = obj.find('name').text.lower()\n",
    "        if class_name == 'cat':\n",
    "            final_dest = os.path.join(cat_dest_folder, filename)\n",
    "        elif class_name == 'dog':\n",
    "            final_dest = os.path.join(dog_dest_folder, filename)\n",
    "        else:\n",
    "            print(f\"Unknown class '{class_name}' in file {xml_file}\")\n",
    "            continue\n",
    "\n",
    "        # Avoid duplicating image if already copied\n",
    "        if not os.path.exists(final_dest):\n",
    "            shutil.copyfile(img_source, final_dest)\n",
    "\n",
    "            \n",
    "            "
   ]
  },
  {
   "cell_type": "code",
   "execution_count": null,
   "id": "1b2ef9e8-036c-4fa5-afa5-7be610badb81",
   "metadata": {},
   "outputs": [],
   "source": []
  }
 ],
 "metadata": {
  "kernelspec": {
   "display_name": "Python 3 (ipykernel)",
   "language": "python",
   "name": "python3"
  },
  "language_info": {
   "codemirror_mode": {
    "name": "ipython",
    "version": 3
   },
   "file_extension": ".py",
   "mimetype": "text/x-python",
   "name": "python",
   "nbconvert_exporter": "python",
   "pygments_lexer": "ipython3",
   "version": "3.8.10"
  }
 },
 "nbformat": 4,
 "nbformat_minor": 5
}
